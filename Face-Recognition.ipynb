{
 "cells": [
  {
   "cell_type": "code",
   "execution_count": 4,
   "metadata": {},
   "outputs": [
    {
     "name": "stdout",
     "output_type": "stream",
     "text": [
      "Collecting face-recognition\n",
      "  Using cached face_recognition-1.3.0-py2.py3-none-any.whl (15 kB)\n",
      "Requirement already satisfied: Click>=6.0 in c:\\users\\msi\\anaconda3\\lib\\site-packages (from face-recognition) (7.1.2)\n",
      "Requirement already satisfied: numpy in c:\\users\\msi\\anaconda3\\lib\\site-packages (from face-recognition) (1.20.1)\n",
      "Collecting dlib>=19.7\n",
      "  Using cached dlib-19.24.2.tar.gz (11.8 MB)\n",
      "  Installing build dependencies: started\n",
      "  Installing build dependencies: finished with status 'done'\n",
      "  Getting requirements to build wheel: started\n",
      "  Getting requirements to build wheel: finished with status 'done'\n",
      "    Preparing wheel metadata: started\n",
      "    Preparing wheel metadata: finished with status 'done'\n",
      "Requirement already satisfied: Pillow in c:\\users\\msi\\anaconda3\\lib\\site-packages (from face-recognition) (8.2.0)\n",
      "Collecting face-recognition-models>=0.3.0\n",
      "  Using cached face_recognition_models-0.3.0-py2.py3-none-any.whl\n",
      "Building wheels for collected packages: dlib\n",
      "  Building wheel for dlib (PEP 517): started\n",
      "  Building wheel for dlib (PEP 517): finished with status 'error'\n",
      "Failed to build dlib\n"
     ]
    },
    {
     "name": "stderr",
     "output_type": "stream",
     "text": [
      "  ERROR: Command errored out with exit status 1:\n",
      "   command: 'C:\\Users\\MSI\\anaconda3\\python.exe' 'C:\\Users\\MSI\\anaconda3\\lib\\site-packages\\pip\\_vendor\\pep517\\_in_process.py' build_wheel 'C:\\Users\\MSI\\AppData\\Local\\Temp\\tmpwm3k8q1t'\n",
      "       cwd: C:\\Users\\MSI\\AppData\\Local\\Temp\\pip-install-k593_f4j\\dlib_f4ed391f7801437b9f9a981f0eff27a3\n",
      "  Complete output (73 lines):\n",
      "  running bdist_wheel\n",
      "  running build\n",
      "  running build_ext\n",
      "  Building extension for Python 3.8.8 (default, Apr 13 2021, 15:08:03) [MSC v.1916 64 bit (AMD64)]\n",
      "  Invoking CMake setup: 'cmake C:\\Users\\MSI\\AppData\\Local\\Temp\\pip-install-k593_f4j\\dlib_f4ed391f7801437b9f9a981f0eff27a3\\tools\\python -DCMAKE_LIBRARY_OUTPUT_DIRECTORY=C:\\Users\\MSI\\AppData\\Local\\Temp\\pip-install-k593_f4j\\dlib_f4ed391f7801437b9f9a981f0eff27a3\\build\\lib.win-amd64-cpython-38 -DPYTHON_EXECUTABLE=C:\\Users\\MSI\\anaconda3\\python.exe -DCMAKE_LIBRARY_OUTPUT_DIRECTORY_RELEASE=C:\\Users\\MSI\\AppData\\Local\\Temp\\pip-install-k593_f4j\\dlib_f4ed391f7801437b9f9a981f0eff27a3\\build\\lib.win-amd64-cpython-38 -A x64'\n",
      "  -- Building for: NMake Makefiles\n",
      "  CMake Error at CMakeLists.txt:5 (message):\n",
      "  \n",
      "  \n",
      "  \n",
      "    !!!!!!!!!!!!!!!!!!!!!!!!!!!!!!!!!!!!!!!!!!!!!!!!!!!!!!!!!!!!!!!!!!!!!!!!!!!!!!!\n",
      "  \n",
      "  \n",
      "    You must use Visual Studio to build a python extension on windows.  If you\n",
      "    are getting this error it means you have not installed Visual C++.  Note\n",
      "    that there are many flavors of Visual Studio, like Visual Studio for C#\n",
      "    development.  You need to install Visual Studio for C++.\n",
      "  \n",
      "  \n",
      "    !!!!!!!!!!!!!!!!!!!!!!!!!!!!!!!!!!!!!!!!!!!!!!!!!!!!!!!!!!!!!!!!!!!!!!!!!!!!!!!\n",
      "  \n",
      "  \n",
      "  \n",
      "  \n",
      "  -- Configuring incomplete, errors occurred!\n",
      "  <string>:125: DeprecationWarning: distutils Version classes are deprecated. Use packaging.version instead.\n",
      "  Traceback (most recent call last):\n",
      "    File \"C:\\Users\\MSI\\anaconda3\\lib\\site-packages\\pip\\_vendor\\pep517\\_in_process.py\", line 280, in <module>\n",
      "      main()\n",
      "    File \"C:\\Users\\MSI\\anaconda3\\lib\\site-packages\\pip\\_vendor\\pep517\\_in_process.py\", line 263, in main\n",
      "      json_out['return_val'] = hook(**hook_input['kwargs'])\n",
      "    File \"C:\\Users\\MSI\\anaconda3\\lib\\site-packages\\pip\\_vendor\\pep517\\_in_process.py\", line 204, in build_wheel\n",
      "      return _build_backend().build_wheel(wheel_directory, config_settings,\n",
      "    File \"C:\\Users\\MSI\\AppData\\Local\\Temp\\pip-build-env-kzg632zp\\overlay\\Lib\\site-packages\\setuptools\\build_meta.py\", line 434, in build_wheel\n",
      "      return self._build_with_temp_dir(\n",
      "    File \"C:\\Users\\MSI\\AppData\\Local\\Temp\\pip-build-env-kzg632zp\\overlay\\Lib\\site-packages\\setuptools\\build_meta.py\", line 419, in _build_with_temp_dir\n",
      "      self.run_setup()\n",
      "    File \"C:\\Users\\MSI\\AppData\\Local\\Temp\\pip-build-env-kzg632zp\\overlay\\Lib\\site-packages\\setuptools\\build_meta.py\", line 341, in run_setup\n",
      "      exec(code, locals())\n",
      "    File \"<string>\", line 218, in <module>\n",
      "    File \"C:\\Users\\MSI\\AppData\\Local\\Temp\\pip-build-env-kzg632zp\\overlay\\Lib\\site-packages\\setuptools\\__init__.py\", line 107, in setup\n",
      "      return distutils.core.setup(**attrs)\n",
      "    File \"C:\\Users\\MSI\\AppData\\Local\\Temp\\pip-build-env-kzg632zp\\overlay\\Lib\\site-packages\\setuptools\\_distutils\\core.py\", line 185, in setup\n",
      "      return run_commands(dist)\n",
      "    File \"C:\\Users\\MSI\\AppData\\Local\\Temp\\pip-build-env-kzg632zp\\overlay\\Lib\\site-packages\\setuptools\\_distutils\\core.py\", line 201, in run_commands\n",
      "      dist.run_commands()\n",
      "    File \"C:\\Users\\MSI\\AppData\\Local\\Temp\\pip-build-env-kzg632zp\\overlay\\Lib\\site-packages\\setuptools\\_distutils\\dist.py\", line 969, in run_commands\n",
      "      self.run_command(cmd)\n",
      "    File \"C:\\Users\\MSI\\AppData\\Local\\Temp\\pip-build-env-kzg632zp\\overlay\\Lib\\site-packages\\setuptools\\dist.py\", line 1233, in run_command\n",
      "      super().run_command(command)\n",
      "    File \"C:\\Users\\MSI\\AppData\\Local\\Temp\\pip-build-env-kzg632zp\\overlay\\Lib\\site-packages\\setuptools\\_distutils\\dist.py\", line 988, in run_command\n",
      "      cmd_obj.run()\n",
      "    File \"C:\\Users\\MSI\\AppData\\Local\\Temp\\pip-build-env-kzg632zp\\overlay\\Lib\\site-packages\\wheel\\bdist_wheel.py\", line 364, in run\n",
      "      self.run_command(\"build\")\n",
      "    File \"C:\\Users\\MSI\\AppData\\Local\\Temp\\pip-build-env-kzg632zp\\overlay\\Lib\\site-packages\\setuptools\\_distutils\\cmd.py\", line 318, in run_command\n",
      "      self.distribution.run_command(command)\n",
      "    File \"C:\\Users\\MSI\\AppData\\Local\\Temp\\pip-build-env-kzg632zp\\overlay\\Lib\\site-packages\\setuptools\\dist.py\", line 1233, in run_command\n",
      "      super().run_command(command)\n",
      "    File \"C:\\Users\\MSI\\AppData\\Local\\Temp\\pip-build-env-kzg632zp\\overlay\\Lib\\site-packages\\setuptools\\_distutils\\dist.py\", line 988, in run_command\n",
      "      cmd_obj.run()\n",
      "    File \"C:\\Users\\MSI\\AppData\\Local\\Temp\\pip-build-env-kzg632zp\\overlay\\Lib\\site-packages\\setuptools\\_distutils\\command\\build.py\", line 131, in run\n",
      "      self.run_command(cmd_name)\n",
      "    File \"C:\\Users\\MSI\\AppData\\Local\\Temp\\pip-build-env-kzg632zp\\overlay\\Lib\\site-packages\\setuptools\\_distutils\\cmd.py\", line 318, in run_command\n",
      "      self.distribution.run_command(command)\n",
      "    File \"C:\\Users\\MSI\\AppData\\Local\\Temp\\pip-build-env-kzg632zp\\overlay\\Lib\\site-packages\\setuptools\\dist.py\", line 1233, in run_command\n",
      "      super().run_command(command)\n",
      "    File \"C:\\Users\\MSI\\AppData\\Local\\Temp\\pip-build-env-kzg632zp\\overlay\\Lib\\site-packages\\setuptools\\_distutils\\dist.py\", line 988, in run_command\n",
      "      cmd_obj.run()\n",
      "    File \"<string>\", line 130, in run\n",
      "    File \"<string>\", line 167, in build_extension\n",
      "    File \"C:\\Users\\MSI\\anaconda3\\lib\\subprocess.py\", line 364, in check_call\n",
      "      raise CalledProcessError(retcode, cmd)\n",
      "  subprocess.CalledProcessError: Command '['cmake', 'C:\\\\Users\\\\MSI\\\\AppData\\\\Local\\\\Temp\\\\pip-install-k593_f4j\\\\dlib_f4ed391f7801437b9f9a981f0eff27a3\\\\tools\\\\python', '-DCMAKE_LIBRARY_OUTPUT_DIRECTORY=C:\\\\Users\\\\MSI\\\\AppData\\\\Local\\\\Temp\\\\pip-install-k593_f4j\\\\dlib_f4ed391f7801437b9f9a981f0eff27a3\\\\build\\\\lib.win-amd64-cpython-38', '-DPYTHON_EXECUTABLE=C:\\\\Users\\\\MSI\\\\anaconda3\\\\python.exe', '-DCMAKE_LIBRARY_OUTPUT_DIRECTORY_RELEASE=C:\\\\Users\\\\MSI\\\\AppData\\\\Local\\\\Temp\\\\pip-install-k593_f4j\\\\dlib_f4ed391f7801437b9f9a981f0eff27a3\\\\build\\\\lib.win-amd64-cpython-38', '-A', 'x64']' returned non-zero exit status 1.\n",
      "  ----------------------------------------\n",
      "  ERROR: Failed building wheel for dlib\n",
      "ERROR: Could not build wheels for dlib which use PEP 517 and cannot be installed directly\n"
     ]
    }
   ],
   "source": [
    "!pip install face-recognition"
   ]
  },
  {
   "cell_type": "code",
   "execution_count": 1,
   "metadata": {},
   "outputs": [
    {
     "ename": "ModuleNotFoundError",
     "evalue": "No module named 'face_recognition'",
     "output_type": "error",
     "traceback": [
      "\u001b[1;31m---------------------------------------------------------------------------\u001b[0m",
      "\u001b[1;31mModuleNotFoundError\u001b[0m                       Traceback (most recent call last)",
      "\u001b[1;32m<ipython-input-1-d7f3047d3955>\u001b[0m in \u001b[0;36m<module>\u001b[1;34m\u001b[0m\n\u001b[1;32m----> 1\u001b[1;33m \u001b[1;32mimport\u001b[0m \u001b[0mface_recognition\u001b[0m\u001b[1;33m\u001b[0m\u001b[1;33m\u001b[0m\u001b[0m\n\u001b[0m\u001b[0;32m      2\u001b[0m \u001b[1;32mimport\u001b[0m \u001b[0mcv2\u001b[0m\u001b[1;33m\u001b[0m\u001b[1;33m\u001b[0m\u001b[0m\n\u001b[0;32m      3\u001b[0m \u001b[1;32mimport\u001b[0m \u001b[0mnumpy\u001b[0m \u001b[1;32mas\u001b[0m \u001b[0mnp\u001b[0m\u001b[1;33m\u001b[0m\u001b[1;33m\u001b[0m\u001b[0m\n\u001b[0;32m      4\u001b[0m \u001b[1;32mfrom\u001b[0m \u001b[0mskimage\u001b[0m\u001b[1;33m.\u001b[0m\u001b[0mio\u001b[0m \u001b[1;32mimport\u001b[0m \u001b[0mimread\u001b[0m\u001b[1;33m\u001b[0m\u001b[1;33m\u001b[0m\u001b[0m\n",
      "\u001b[1;31mModuleNotFoundError\u001b[0m: No module named 'face_recognition'"
     ]
    }
   ],
   "source": [
    "import face_recognition\n",
    "import cv2\n",
    "import numpy as np\n",
    "from skimage.io import imread"
   ]
  },
  {
   "cell_type": "code",
   "execution_count": 3,
   "metadata": {},
   "outputs": [],
   "source": [
    "video_capture = cv2.VideoCapture(0)\n",
    "\n",
    "def classify_face():\n",
    "    \n",
    "#     faces = get_encoded_faces()\n",
    "#     known_face_encodings = list(faces.values())\n",
    "#     known_face_names = list(faces.keys())\n",
    "\n",
    "    # Load\n",
    "    faces = np.load('encoding.npy',allow_pickle='TRUE').item()\n",
    "    \n",
    "    known_face_encodings = list(faces.values())\n",
    "    known_face_names = list(faces.keys())\n",
    "    \n",
    "    # Initialize some variable\n",
    "    face_locations = []\n",
    "    face_encodings = []\n",
    "    face_names = []\n",
    "    process_this_frame = True\n",
    "\n",
    "    while True:\n",
    "        ret, frame = video_capture.read()\n",
    "        \n",
    "        small_frame = cv2.resize(frame, (0,0), None, fx=0.25, fy=0.25)\n",
    "\n",
    "        rgb_small_frame = small_frame#[:,:,::-1]\n",
    "        \n",
    "        #face_locations = face_recognition.face_locations(rgb_small_frame, model='hog')\n",
    "        face_locations = face_recognition.face_locations(rgb_small_frame, model='cnn')\n",
    "        face_encodings = face_recognition.face_encodings(rgb_small_frame, face_locations)\n",
    "        \n",
    "        name =\"Not Detected\"\n",
    "        \n",
    "        for encodeFace,faceLoc in zip(face_encodings, face_locations):\n",
    "            matches = face_recognition.compare_faces(known_face_encodings,encodeFace,0.5)\n",
    "            faceDis = face_recognition.face_distance(known_face_encodings, encodeFace)\n",
    "            matchIndex = np.argmin(faceDis)\n",
    "            \n",
    "            \n",
    "            #if True in matches:\n",
    "            if matches[matchIndex]:\n",
    "                matchIndex = matches.index(True)\n",
    "                name = known_face_names[matchIndex]\n",
    "                \n",
    "            elif (False == (True in matches)):\n",
    "                name =\"Unknown\"\n",
    "                \n",
    "            y1,x2,y2,x1 = faceLoc\n",
    "            y1,x2,y2,x1 = y1*4,x2*4,y2*4,x1*4\n",
    "            cv2.rectangle(frame, (x1,y1), (x2,y2), (0,255,0),2)\n",
    "            cv2.rectangle(frame,(x1,y2-35), (x2,y2), (0,255,0), cv2.FILLED)\n",
    "            cv2.putText(frame, name, (x1+6,y2-6),cv2.FONT_HERSHEY_COMPLEX,0.5,(255,255,255),2)\n",
    "            #for i, faceDis in enumerate(faceDis):\n",
    "                #cv2.putText(frame, str(round(faceDis,2)), (x2-55,y2-6),cv2.FONT_HERSHEY_COMPLEX,0.8,(255,255,255),2 )\n",
    "            #cv2.putText(frame, str(round(faceDis[1],2)), (x2-40,y2-6),cv2.FONT_HERSHEY_COMPLEX,0.8,(255,255,255),1)\n",
    "            \n",
    "        if name==\"Not Detected\":\n",
    "            cv2.putText(frame, name, (5,50),cv2.FONT_HERSHEY_COMPLEX,2,(0,0,255),2)\n",
    "        \n",
    "        # Display Result\n",
    "        cv2.imshow(\"Video\", frame)\n",
    "        cv2.imwrite('DetectedFaces/faces_detected.jpg', frame)\n",
    "        \n",
    "        if cv2.waitKey(1) & 0xFF == ord('q'):\n",
    "            #print(str(round(faceDis,2)))\n",
    "            print(name)\n",
    "            break\n",
    "        \n",
    "        if name != \"Not Detected\":\n",
    "            if name != 'Unknown':\n",
    "                #print(str(round(faceDis,2)))\n",
    "                print(name)\n",
    "                cv2.waitKey(0)\n",
    "                video_capture.release()\n",
    "                cv2.destroyAllWindows()\n",
    "                return name\n",
    "            else:\n",
    "                print(name)\n",
    "                cv2.waitKey(0)\n",
    "            break\n",
    "        \n",
    "    video_capture.release()\n",
    "    cv2.destroyAllWindows()"
   ]
  },
  {
   "cell_type": "code",
   "execution_count": 4,
   "metadata": {},
   "outputs": [
    {
     "name": "stdout",
     "output_type": "stream",
     "text": [
      "Vanshit Kandoi\n"
     ]
    }
   ],
   "source": [
    "Detected_face = classify_face()"
   ]
  },
  {
   "cell_type": "code",
   "execution_count": 10,
   "metadata": {
    "scrolled": true
   },
   "outputs": [
    {
     "name": "stdout",
     "output_type": "stream",
     "text": [
      "['Abhinav Jaiswal', '20BCE2624', '8957058660', 'AB+']\n"
     ]
    }
   ],
   "source": [
    "import csv\n",
    "\n",
    "with open('DATA.csv', 'r') as file:\n",
    "    reader = csv.reader(file)\n",
    "    for row in reader:\n",
    "        #print(row[0])\n",
    "        if row[0] == Detected_face:\n",
    "            print(row)"
   ]
  }
 ],
 "metadata": {
  "kernelspec": {
   "display_name": "Python 3",
   "language": "python",
   "name": "python3"
  },
  "language_info": {
   "codemirror_mode": {
    "name": "ipython",
    "version": 3
   },
   "file_extension": ".py",
   "mimetype": "text/x-python",
   "name": "python",
   "nbconvert_exporter": "python",
   "pygments_lexer": "ipython3",
   "version": "3.8.8"
  }
 },
 "nbformat": 4,
 "nbformat_minor": 4
}
